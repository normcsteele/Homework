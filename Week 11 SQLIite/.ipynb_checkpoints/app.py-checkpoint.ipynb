{
 "cells": [
  {
   "cell_type": "code",
   "execution_count": 1,
   "metadata": {},
   "outputs": [],
   "source": [
    "import matplotlib.pylab as plt\n",
    "import matplotlib.dates as mdates\n",
    "import sqlalchemy\n",
    "from sqlalchemy.ext.automap import automap_base\n",
    "from sqlalchemy.orm import Session\n",
    "from sqlalchemy import create_engine, func\n",
    "from flask import Flask, jsonify\n",
    "from datetime import datetime as dt\n",
    "import datetime as dt\n",
    "import numpy as np\n",
    "import pandas as pd\n",
    "from sqlalchemy.ext.declarative import declarative_base\n",
    "Base = declarative_base()\n",
    "from sqlalchemy import Column, Integer, String, Float, Text, Date\n",
    "import pymysql\n",
    "pymysql.install_as_MySQLdb()"
   ]
  },
  {
   "cell_type": "code",
   "execution_count": 10,
   "metadata": {},
   "outputs": [],
   "source": [
    "engine = create_engine(\"sqlite:///hawaii.sqlite\", echo = False)\n",
    "conn = engine.connect()\n",
    "station_df = pd.DataFrame(conn.execute('SELECT station FROM stations').fetchall())\n",
    "station_df.columns = ['station']\n",
    "_ = conn.execute('SELECT date, station, tobs FROM measurements \\\n",
    "                  WHERE date >= \\'2016-08-23\\' AND station == \\'USC00519397\\' \\\n",
    "                  GROUP BY date, station').fetchall()\n",
    "temp_df = pd.DataFrame(_)\n",
    "temp_df.columns = ['date', 'station', 'tobs']\n",
    "temp_data = pd.read_sql('measurements', conn, parse_dates={'date': {'format': '%Y-%m-%d'}}, columns=['date', 'tobs'])"
   ]
  },
  {
   "cell_type": "code",
   "execution_count": 43,
   "metadata": {},
   "outputs": [],
   "source": [
    "app = Flask(__name__)\n",
    "\n",
    "@app.route('/')\n",
    "def start():\n",
    "    return (\n",
    "        f\"Options:<br/>\"\n",
    "        f\"<br/>\"\n",
    "        f\"/api/v1.0/precipitation<br/>\"\n",
    "        f\"/api/v1.0/stations<br/>\"\n",
    "        f\"/api/v1.0/tobs<br/>\"\n",
    "        f\"/api/v1.0/start<br/>\"\n",
    "        f\"/api/v1.0/start/end\"\n",
    "        )"
   ]
  },
  {
   "cell_type": "code",
   "execution_count": 44,
   "metadata": {},
   "outputs": [],
   "source": [
    "@app.route('/api/v1.0/precipitation')\n",
    "def Precipitation():\n",
    "    precipitation = tobs_df[['date', 'tobs']]\n",
    "    precipitation_table = []\n",
    "    for i in range(precipitation.shape[0]):\n",
    "        dic = {}\n",
    "        dic['date'] = precipitation.date[i]\n",
    "        dic['tobs'] = int(precipitation.tobs[i])\n",
    "        precipitation_table.append(dic)\n",
    "    return(jsonify(precipitation_table))"
   ]
  },
  {
   "cell_type": "code",
   "execution_count": 45,
   "metadata": {},
   "outputs": [],
   "source": [
    "@app.route('/api/v1.0/stations')\n",
    "def Station():\n",
    "    return(jsonify(station_df.to_dict()))"
   ]
  },
  {
   "cell_type": "code",
   "execution_count": 46,
   "metadata": {},
   "outputs": [],
   "source": [
    "@app.route('/api/v1.0/tobs')\n",
    "def Temperature():\n",
    "    temp = temp_df[['tobs']]\n",
    "    return(jsonify(tobs.to_dict()))"
   ]
  },
  {
   "cell_type": "code",
   "execution_count": 47,
   "metadata": {},
   "outputs": [],
   "source": [
    "@app.route('/api/v1.0/<start>')\n",
    "def show_start(start):\n",
    "    def temp_range(start_date):\n",
    "        df = temp_data[temp_data.date >= start_date]\n",
    "        dic = {}\n",
    "        dic['min'] = df.temp.min()\n",
    "        dic['avg'] = df.temp.mean()\n",
    "        dic['max'] = df.temp.max()\n",
    "        return(dic)\n",
    "    new_temps = temp_range(start)\n",
    "    new = {}\n",
    "    new['TMIN'] = float(new_temps['min'])\n",
    "    new['TAVG'] = float(new_temps['avg'])\n",
    "    new['TMAX'] = float(new_temps['max'])\n",
    "    return(jsonify(new))"
   ]
  },
  {
   "cell_type": "code",
   "execution_count": 48,
   "metadata": {},
   "outputs": [],
   "source": [
    "@app.route('/api/v1.0/<start>/<end>')\n",
    "def show_start_end(start, end):\n",
    "    def calc_temps(start_date, end_date):\n",
    "        df = temp_data[(temp_data.date >= start_date) & (temp_data.date <= end_date)]\n",
    "        dic = {}\n",
    "        dic['min'] = df.tobs.min()\n",
    "        dic['avg'] = df.tobs.mean()\n",
    "        dic['max'] = df.tobs.max()\n",
    "        return(dic)\n",
    "    temps = calc_temps(start, end)\n",
    "    di = {}\n",
    "    di['TMIN'] = float(temps['min'])\n",
    "    di['TAVG'] = float(temps['avg'])\n",
    "    di['TMAX'] = float(temps['max'])\n",
    "    return(jsonify(di))"
   ]
  },
  {
   "cell_type": "code",
   "execution_count": 49,
   "metadata": {},
   "outputs": [
    {
     "name": "stderr",
     "output_type": "stream",
     "text": [
      " * Restarting with stat\n"
     ]
    },
    {
     "ename": "SystemExit",
     "evalue": "1",
     "output_type": "error",
     "traceback": [
      "An exception has occurred, use %tb to see the full traceback.\n",
      "\u001b[1;31mSystemExit\u001b[0m\u001b[1;31m:\u001b[0m 1\n"
     ]
    },
    {
     "name": "stderr",
     "output_type": "stream",
     "text": [
      "C:\\Users\\Norman\\Anaconda3\\lib\\site-packages\\IPython\\core\\interactiveshell.py:2918: UserWarning: To exit: use 'exit', 'quit', or Ctrl-D.\n",
      "  warn(\"To exit: use 'exit', 'quit', or Ctrl-D.\", stacklevel=1)\n"
     ]
    }
   ],
   "source": [
    "if __name__ == '__main__':\n",
    "    app.run(debug=True)"
   ]
  },
  {
   "cell_type": "code",
   "execution_count": null,
   "metadata": {},
   "outputs": [],
   "source": []
  },
  {
   "cell_type": "code",
   "execution_count": null,
   "metadata": {},
   "outputs": [],
   "source": [
    "Step 4 - Climate App\n",
    "\n",
    "Now that you have completed your initial analysis, design a Flask API based on the queries that you have just developed.\n",
    "\n",
    "Use FLASK to create your routes.\n",
    "\n",
    "Routes\n",
    "\n",
    "/api/v1.0/precipitation\n",
    "\n",
    "Query for the dates and temperature observations from the last year.\n",
    "Convert the query results to a Dictionary using date as the key and tobs as the value.\n",
    "Return the JSON representation of your dictionary.\n",
    "\n",
    "/api/v1.0/stations\n",
    "\n",
    "Return a JSON list of stations from the dataset.\n",
    "\n",
    "/api/v1.0/tobs\n",
    "\n",
    "Return a JSON list of Temperature Observations (tobs) for the previous year\n",
    "\n",
    "/api/v1.0/<start> and /api/v1.0/<start>/<end>\n",
    "\n",
    "Return a JSON list of the minimum temperature, the average temperature, \n",
    "and the max temperature for a given start or start-end range.\n",
    "When given the start only, calculate TMIN, TAVG, and TMAX for all dates greater than and equal to the start date.\n",
    "When given the start and the end date, calculate the TMIN, TAVG, \n",
    "and TMAX for dates between the start and end date inclusive."
   ]
  }
 ],
 "metadata": {
  "kernelspec": {
   "display_name": "Python 3",
   "language": "python",
   "name": "python3"
  },
  "language_info": {
   "codemirror_mode": {
    "name": "ipython",
    "version": 3
   },
   "file_extension": ".py",
   "mimetype": "text/x-python",
   "name": "python",
   "nbconvert_exporter": "python",
   "pygments_lexer": "ipython3",
   "version": "3.6.4"
  }
 },
 "nbformat": 4,
 "nbformat_minor": 2
}
