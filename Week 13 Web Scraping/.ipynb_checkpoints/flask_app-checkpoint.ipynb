{
 "cells": [
  {
   "cell_type": "code",
   "execution_count": 4,
   "metadata": {},
   "outputs": [
    {
     "ename": "ModuleNotFoundError",
     "evalue": "No module named 'mars_scraper'",
     "output_type": "error",
     "traceback": [
      "\u001b[1;31m---------------------------------------------------------------------------\u001b[0m",
      "\u001b[1;31mModuleNotFoundError\u001b[0m                       Traceback (most recent call last)",
      "\u001b[1;32m<ipython-input-4-cf8701ececcc>\u001b[0m in \u001b[0;36m<module>\u001b[1;34m()\u001b[0m\n\u001b[0;32m      4\u001b[0m \u001b[1;32mfrom\u001b[0m \u001b[0mpymongo\u001b[0m \u001b[1;32mimport\u001b[0m \u001b[0mMongoClient\u001b[0m\u001b[1;33m\u001b[0m\u001b[0m\n\u001b[0;32m      5\u001b[0m \u001b[1;33m\u001b[0m\u001b[0m\n\u001b[1;32m----> 6\u001b[1;33m \u001b[1;32mimport\u001b[0m \u001b[0mmars_scraper\u001b[0m\u001b[1;33m\u001b[0m\u001b[0m\n\u001b[0m\u001b[0;32m      7\u001b[0m \u001b[1;33m\u001b[0m\u001b[0m\n\u001b[0;32m      8\u001b[0m \u001b[1;31m# create instance of Flask app\u001b[0m\u001b[1;33m\u001b[0m\u001b[1;33m\u001b[0m\u001b[0m\n",
      "\u001b[1;31mModuleNotFoundError\u001b[0m: No module named 'mars_scraper'"
     ]
    }
   ],
   "source": [
    "# import necessary libraries\n",
    "from flask import Flask, render_template, redirect\n",
    "from flask_pymongo import PyMongo\n",
    "from pymongo import MongoClient\n",
    "\n",
    "import mars_scraper\n",
    "\n",
    "# create instance of Flask app\n",
    "app = Flask(__name__)\n",
    "\n",
    "# Use flask_pymongo to set up mongo connection\n",
    "app.config[\"MONGO_URI\"] = \"mongodb://localhost:27017/marsDB\"\n",
    "mongo = PyMongo(app)\n",
    "\n",
    "# create route that renders index.html template and finds documents from mongo\n",
    "@app.route(\"/\")\n",
    "def home():\n",
    "\n",
    "    # Fetch data from MongoDB\n",
    "    marsDB = mongo.db.collection.find_one()\n",
    "\n",
    "    return render_template(\"index.html\", marsDB=marsDB)\n",
    "\n",
    "\n",
    "# Put scraped data into MongoDB\n",
    "@app.route(\"/scrape\")\n",
    "def scrape():\n",
    "    \n",
    "    client = MongoClient('localhost', 27017)\n",
    "    db = client['marsDB']\n",
    "\n",
    "    if 'collection' in db.list_collection_names():\n",
    "        db.drop_collection('collection')\n",
    "\n",
    "    # Run scraped functions\n",
    "    mars = mars_scraper.scrape()\n",
    "\n",
    "    # Dictionary for mars scraped data from mission to mars notebook\n",
    "    marsDB = {\n",
    "        \"title\": mars[\"title\"],\n",
    "        \"paragraph\": mars[\"paragraph\"],\n",
    "        \"featured_image\": mars[\"featured_image\"],\n",
    "        \"weather\": mars[\"weather\"],\n",
    "        \"mars_facts\": mars[\"mars_facts\"],\n",
    "        \"hemispheres\": mars[\"hemispheres\"],\n",
    "    }\n",
    "\n",
    "    # Insert dictionary into MongoDB\n",
    "    mongo.db.collection.insert_one(marsDB)\n",
    "\n",
    "    # Redirect back to home page\n",
    "    return redirect(\"/\", code=302)\n",
    "\n",
    "print(\"Data Uploaded!\")\n",
    "\n",
    "\n",
    "if __name__ == \"__main__\":\n",
    "    app.run(port=5000, debug=True)"
   ]
  }
 ],
 "metadata": {
  "kernelspec": {
   "display_name": "Python 3",
   "language": "python",
   "name": "python3"
  },
  "language_info": {
   "codemirror_mode": {
    "name": "ipython",
    "version": 3
   },
   "file_extension": ".py",
   "mimetype": "text/x-python",
   "name": "python",
   "nbconvert_exporter": "python",
   "pygments_lexer": "ipython3",
   "version": "3.6.4"
  }
 },
 "nbformat": 4,
 "nbformat_minor": 2
}
